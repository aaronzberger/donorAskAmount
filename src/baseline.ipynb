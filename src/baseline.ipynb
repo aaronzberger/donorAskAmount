{
 "cells": [
  {
   "cell_type": "markdown",
   "metadata": {},
   "source": [
    "# 1. Problem Statement Refinement\n",
    "\n",
    "The goal of this project is to predict what donation amount to ask of a donor, given a political candidate's description, and the donor's personal information. \n",
    "\n",
    "Several factors determine a donor's financial contributions, such as whether the donor has made political donations in the past, what the donor's political leanings are, the candidate's party, the time in the current election cycle, and what office the candidate is running for. \n",
    "\n",
    "# 2. EDA Review\n",
    "\n",
    "Not all donors have the same donation habits. According to the EDA, about 7.9% of total donations come from individuals who donated multiple times; the vast majority only ever make a single political contribution.\n",
    "\n",
    "Donations tend to spike at regular intervals during election cycles, ie. right before presidential elections. \n",
    "<img src='electioncycles.png'>\n",
    "\n",
    "Highly partisal donors (high or low CF scores) tend to donate more frequently. \n",
    "<img src='2024-04-10-191628_677x368_scrot.png'>\n",
    "\n",
    "Almost all donations for individual donors are under $5000. However, a small number of donations are up to 40 times that amount. We scaled our data by a factor of 5000, as we will only be considering small-dollar donors for this baseline analysis. For now, we are assuming that political campaigns are already familiar with most politically engaged, high net worth individuals.\n"
   ]
  },
  {
   "cell_type": "markdown",
   "metadata": {},
   "source": [
    "# 3. Baseline model for first-time donors\n",
    "\n",
    "We chose the linear regression and tree-based (RandomForestRegressor and GradientBoostingRegressor) model baselines for their simplicity, and to get a ceiling estimate of the error. Our final model will have the goal of improving upon it. \n",
    "\n",
    "The training process was to select donor CF scores, candidate CF scores, and election year/month as the predictors, and the scaled donation amount as the response. \n",
    "\n",
    "### Preprocessing and Summary statistics"
   ]
  },
  {
   "cell_type": "code",
   "execution_count": 1,
   "metadata": {},
   "outputs": [],
   "source": [
    "import os\n",
    "import pandas as pd\n",
    "from config import DATA_DIR\n",
    "from sklearn.model_selection import train_test_split\n",
    "from sklearn.linear_model import LinearRegression\n",
    "from sklearn.metrics import mean_squared_error\n",
    "from sklearn.ensemble import RandomForestRegressor, GradientBoostingRegressor\n",
    "import numpy as np\n",
    "import matplotlib.pyplot as plt\n",
    "import warnings\n",
    "warnings.filterwarnings('ignore')"
   ]
  },
  {
   "cell_type": "code",
   "execution_count": 2,
   "metadata": {},
   "outputs": [],
   "source": [
    "df_all_donors = pd.read_csv(os.path.join(DATA_DIR, 'sample_contributions.csv'))\n",
    "df = df_all_donors[df_all_donors['Repeat_Donor'] != True]"
   ]
  },
  {
   "cell_type": "code",
   "execution_count": 3,
   "metadata": {},
   "outputs": [],
   "source": [
    "def simple_preprocessing(df):\n",
    "    df = df[['scaled_amount', 'date', 'contributor.cfscore', 'candidate.cfscore']].copy()\n",
    "    df['date'] = pd.to_datetime(df['date'], errors='coerce')\n",
    "    \n",
    "    df['contributor.cfscore'].fillna(df['contributor.cfscore'].mean(), inplace=True)\n",
    "    df['candidate.cfscore'].fillna(df['candidate.cfscore'].mean(), inplace=True)\n",
    "\n",
    "    #Data is scaled by factor of 5000:1\n",
    "    print(\"Scaled maximum:\", max(df['scaled_amount']))\n",
    "    df['amount_capped'] = df['scaled_amount'].apply(lambda x: min(x, 1.0))\n",
    "    print(\"Cutoff for small-dollar donors:\", max(df['amount_capped']))\n",
    "    df['year'] = df['date'].dt.year\n",
    "    df['month'] = df['date'].dt.month\n",
    "    \n",
    "    df.dropna(subset=['date'], inplace=True)\n",
    "\n",
    "    return df"
   ]
  },
  {
   "cell_type": "code",
   "execution_count": 4,
   "metadata": {},
   "outputs": [
    {
     "name": "stdout",
     "output_type": "stream",
     "text": [
      "Scaled maximum: 40.0\n",
      "Cutoff for small-dollar donors: 1.0\n"
     ]
    }
   ],
   "source": [
    "df = simple_preprocessing(df)"
   ]
  },
  {
   "cell_type": "code",
   "execution_count": 8,
   "metadata": {},
   "outputs": [
    {
     "name": "stdout",
     "output_type": "stream",
     "text": [
      "Scaled Amount standard deviation: 0.12423210527683524\n",
      "Scaled Amount mean: 0.07528062489817233\n"
     ]
    },
    {
     "data": {
      "image/png": "[encoded data removed]",
      "text/plain": [
       "<Figure size 1000x600 with 1 Axes>"
      ]
     },
     "metadata": {},
     "output_type": "display_data"
    }
   ],
   "source": [
    "X = df[['contributor.cfscore', 'candidate.cfscore', 'year', 'month']]\n",
    "y = df['amount_capped']\n",
    "\n",
    "print(\"Scaled Amount standard deviation:\", np.std(y))\n",
    "print(\"Scaled Amount mean:\", np.mean(y))\n",
    "\n",
    "plt.figure(figsize=(10, 6))\n",
    "plt.hist(y, bins=50, alpha=0.7, color='blue', range=(0, 1))\n",
    "plt.title('Distribution of Scaled Amounts')\n",
    "plt.xlabel('Scaled Amount (Capped at 1.0)')\n",
    "plt.ylabel('Frequency')\n",
    "plt.grid(axis='y', alpha=0.75)"
   ]
  },
  {
   "cell_type": "markdown",
   "metadata": {},
   "source": [
    "### Linear Regression Baseline"
   ]
  },
  {
   "cell_type": "code",
   "execution_count": 6,
   "metadata": {},
   "outputs": [
    {
     "data": {
      "text/plain": [
       "0.1227548243902918"
      ]
     },
     "execution_count": 6,
     "metadata": {},
     "output_type": "execute_result"
    }
   ],
   "source": [
    "X_train, X_test, y_train, y_test = train_test_split(X, y, test_size=0.2, random_state=42)\n",
    "\n",
    "model = LinearRegression()\n",
    "model.fit(X_train, y_train)\n",
    "\n",
    "y_pred = model.predict(X_test)\n",
    "\n",
    "rmse = mean_squared_error(y_test, y_pred, squared=False)\n",
    "rmse"
   ]
  },
  {
   "cell_type": "markdown",
   "metadata": {},
   "source": [
    "### Tree-based Models Baseline"
   ]
  },
  {
   "cell_type": "code",
   "execution_count": 7,
   "metadata": {},
   "outputs": [
    {
     "data": {
      "text/plain": [
       "(0.12519113234470086, 0.118485920881569)"
      ]
     },
     "execution_count": 7,
     "metadata": {},
     "output_type": "execute_result"
    }
   ],
   "source": [
    "rf_model = RandomForestRegressor(n_estimators=100, random_state=42)\n",
    "rf_model.fit(X_train, y_train)\n",
    "rf_pred = rf_model.predict(X_test)\n",
    "rf_rmse = mean_squared_error(y_test, rf_pred, squared=False)\n",
    "\n",
    "gb_model = GradientBoostingRegressor(n_estimators=100, random_state=42)\n",
    "gb_model.fit(X_train, y_train)\n",
    "gb_pred = gb_model.predict(X_test)\n",
    "gb_rmse = mean_squared_error(y_test, gb_pred, squared=False)\n",
    "\n",
    "rf_rmse, gb_rmse"
   ]
  },
  {
   "cell_type": "markdown",
   "metadata": {},
   "source": [
    "# 4. Results\n",
    "\n",
    "Initial results present much room for improvement, as the Gradient Boosting Regressor's RMSE is the lowest (at 0.118), and it is barely lower than the scaled and capped amount's standard deviation (at 0.124).\n",
    "\n",
    "The Gradient Boosting Regressor model's chief stengths in this case are its ability to handle non-linear relationships between the predictors and responses, and its ability to handle predictor data which vary in type and scaling. The chief weakness is GBR's lack of support for categorical variables that are not ordinal. Therefore, we could not include some predictor variables which would have been useful, such as which office the candidate is running for. "
   ]
  },
  {
   "cell_type": "markdown",
   "metadata": {},
   "source": [
    "# 5. Final model outline\n",
    "\n",
    "We will have two final models. One of which will use a MLP to create a regression for small-dollar, one-time donors, taking into account categorical variables, to overcome the weaknesses of the GBR model described above. The data processing is mostly done for this, we simply need to encode categorical variables, and choose an appropriate architecture. \n",
    "\n",
    "The second will allow us to predict what donation to ask of a donor who has made donations in the past. We can potentially implement this with one of two architectures. One approach might be to use a single-directional RNN that treats a frequent donor's order of donation as the time step, and additionally takes the same predictor variables as the one-time donor. \n",
    "Another would be to do feature engineering that captures a given frequent donor's entire donation history, so we can eliminate the time series element and use an architecture similar to the one-time donor MLP. This feature engineering could be achieved concatenating past donations and which candidates they went towards into a matrix."
   ]
  },
  {
   "cell_type": "markdown",
   "metadata": {},
   "source": [
    "# 6. TF meeting\n",
    "\n",
    "Daniel Lebedinsky was able to meet with Chris Gumb during office hours on Friday 4/19 to discuss current project state, and incorporated advice for the current milestone."
   ]
  }
 ],
 "metadata": {
  "kernelspec": {
   "display_name": "Python 3 (ipykernel)",
   "language": "python",
   "name": "python3"
  },
  "language_info": {
   "codemirror_mode": {
    "name": "ipython",
    "version": 3
   },
   "file_extension": ".py",
   "mimetype": "text/x-python",
   "name": "python",
   "nbconvert_exporter": "python",
   "pygments_lexer": "ipython3",
   "version": "3.10.13"
  }
 },
 "nbformat": 4,
 "nbformat_minor": 4
}
