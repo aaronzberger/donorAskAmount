{
 "cells": [
  {
   "cell_type": "markdown",
   "metadata": {},
   "source": [
    "## Fetch the data\n",
    "\n",
    "For now, we'll just fetch 1980-2000, since we can't store the remainder of it yet."
   ]
  },
  {
   "cell_type": "code",
   "execution_count": 8,
   "metadata": {},
   "outputs": [],
   "source": [
    "import os\n",
    "import subprocess\n",
    "import urllib.request\n",
    "\n",
    "import pandas as pd\n",
    "from tqdm import tqdm\n",
    "\n",
    "from config import DATA_DIR"
   ]
  },
  {
   "cell_type": "code",
   "execution_count": 10,
   "metadata": {},
   "outputs": [],
   "source": [
    "links = {\n",
    "    1980: 'https://www.dropbox.com/scl/fi/gdvpzggkb0in9yruircpi/contribDB_1980.csv.gz?rlkey=rs07632m813k3g85ndek1z16g&dl=1',\n",
    "    1982: 'https://www.dropbox.com/scl/fi/27xvy2hz0r4qxk8scnquh/contribDB_1982.csv.gz?rlkey=l45cyb4zzlr8xo74un5lazs58&dl=1',\n",
    "    1984: 'https://www.dropbox.com/scl/fi/ll39jbojud23hlvqrtejo/contribDB_1984.csv.gz?rlkey=2wa2khacau0nofzbcakm0y41g&dl=1',\n",
    "    1986: 'https://www.dropbox.com/scl/fi/dygk66slka6k2kkut2qhr/contribDB_1986.csv.gz?rlkey=8gnic6alr13e02f49rl3bak07&dl=1',\n",
    "    1988: 'https://www.dropbox.com/scl/fi/bjf3f5ol3m6zgx0pf46h3/contribDB_1988.csv.gz?rlkey=tenj07ipi5w5fe804b8wp7g3b&dl=1',\n",
    "    1990: 'https://www.dropbox.com/scl/fi/32oz76r1s0rg1f65sokki/contribDB_1990.csv.gz?rlkey=63a7r895m3bgam2eeg3ei1ox2&dl=1',\n",
    "    1992: 'https://www.dropbox.com/scl/fi/oqdezk0qhlcwu0pg2w54u/contribDB_1992.csv.gz?rlkey=3wy10l308vpfhdoteim95lt36&dl=1',\n",
    "    1994: 'https://www.dropbox.com/scl/fi/j8c57z43lg7byvhchaajq/contribDB_1994.csv.gz?rlkey=e1y4hz7x36vw26hlvvytmxp13&dl=1',\n",
    "    1996: 'https://www.dropbox.com/scl/fi/5sptswri21u1z6nyc2zzw/contribDB_1996.csv.gz?rlkey=ar2wx5f05p7f38hzt4o52rngg&dl=1',\n",
    "    1998: 'https://www.dropbox.com/scl/fi/c3bdwy7v527lrx68ghkvr/contribDB_1998.csv.gz?rlkey=y9jfa2e7tjd0yc5w2x227loy8&dl=1'\n",
    "}"
   ]
  },
  {
   "cell_type": "code",
   "execution_count": 12,
   "metadata": {},
   "outputs": [
    {
     "name": "stdout",
     "output_type": "stream",
     "text": [
      "Downloading 1980_contributions.csv.gz...\n",
      "Unzipping 1980_contributions.csv.gz...\n",
      "Downloading 1982_contributions.csv.gz...\n",
      "Unzipping 1982_contributions.csv.gz...\n",
      "Downloading 1984_contributions.csv.gz...\n",
      "Unzipping 1984_contributions.csv.gz...\n",
      "Downloading 1986_contributions.csv.gz...\n",
      "Unzipping 1986_contributions.csv.gz...\n",
      "Downloading 1988_contributions.csv.gz...\n",
      "Unzipping 1988_contributions.csv.gz...\n",
      "Downloading 1990_contributions.csv.gz...\n",
      "Unzipping 1990_contributions.csv.gz...\n",
      "Downloading 1992_contributions.csv.gz...\n",
      "Unzipping 1992_contributions.csv.gz...\n",
      "Downloading 1994_contributions.csv.gz...\n",
      "Unzipping 1994_contributions.csv.gz...\n",
      "Downloading 1996_contributions.csv.gz...\n",
      "Unzipping 1996_contributions.csv.gz...\n",
      "Downloading 1998_contributions.csv.gz...\n",
      "Unzipping 1998_contributions.csv.gz...\n",
      "Total storage used: 4324.75 MB\n"
     ]
    }
   ],
   "source": [
    "# Fetch the data and unzip into the data directory\n",
    "\n",
    "total_storage = 0\n",
    "\n",
    "for year, url in links.items():\n",
    "    filename = f'{year}_contributions.csv.gz'\n",
    "    filepath = os.path.join(DATA_DIR, filename)\n",
    "\n",
    "    if os.path.exists(filepath):\n",
    "        print(f'{filename} already exists, skipping...')\n",
    "        continue\n",
    "\n",
    "    print(f'Downloading {filename}...')\n",
    "    with urllib.request.urlopen(url) as response, open(filepath, 'wb') as out_file:\n",
    "        data = response.read()\n",
    "        out_file.write(data)\n",
    "\n",
    "    print(f'Unzipping {filename}...')\n",
    "    subprocess.run(['gunzip', filepath])\n",
    "\n",
    "    total_storage += os.path.getsize(filepath.split('.gz')[0])\n",
    "\n",
    "print(f'Total storage used: {total_storage / 1024 / 1024:.2f} MB')"
   ]
  },
  {
   "cell_type": "code",
   "execution_count": 13,
   "metadata": {},
   "outputs": [
    {
     "name": "stderr",
     "output_type": "stream",
     "text": [
      "  0%|          | 0/10 [00:00<?, ?it/s]"
     ]
    },
    {
     "name": "stdout",
     "output_type": "stream",
     "text": [
      "Loading 1980_contributions.csv...\n"
     ]
    },
    {
     "name": "stderr",
     "output_type": "stream",
     "text": [
      "/var/folders/bk/0sfrfl4n3nl9319cdqyxqb740000gn/T/ipykernel_37523/1732914937.py:8: DtypeWarning: Columns (7,8,9,10,11,12,14,19,20,21,25,37) have mixed types. Specify dtype option on import or set low_memory=False.\n",
      "  data = pd.read_csv(filepath)\n",
      " 10%|█         | 1/10 [00:01<00:13,  1.55s/it]"
     ]
    },
    {
     "name": "stdout",
     "output_type": "stream",
     "text": [
      "Loading 1982_contributions.csv...\n"
     ]
    },
    {
     "name": "stderr",
     "output_type": "stream",
     "text": [
      "/var/folders/bk/0sfrfl4n3nl9319cdqyxqb740000gn/T/ipykernel_37523/1732914937.py:8: DtypeWarning: Columns (7,8,9,10,11,12,14,19,20,21,25,37) have mixed types. Specify dtype option on import or set low_memory=False.\n",
      "  data = pd.read_csv(filepath)\n",
      " 20%|██        | 2/10 [00:02<00:10,  1.36s/it]"
     ]
    },
    {
     "name": "stdout",
     "output_type": "stream",
     "text": [
      "Loading 1984_contributions.csv...\n"
     ]
    },
    {
     "name": "stderr",
     "output_type": "stream",
     "text": [
      "/var/folders/bk/0sfrfl4n3nl9319cdqyxqb740000gn/T/ipykernel_37523/1732914937.py:8: DtypeWarning: Columns (7,8,9,10,11,12,14,19,20,21,25,37) have mixed types. Specify dtype option on import or set low_memory=False.\n",
      "  data = pd.read_csv(filepath)\n",
      " 30%|███       | 3/10 [00:04<00:09,  1.38s/it]"
     ]
    },
    {
     "name": "stdout",
     "output_type": "stream",
     "text": [
      "Loading 1986_contributions.csv...\n"
     ]
    },
    {
     "name": "stderr",
     "output_type": "stream",
     "text": [
      "/var/folders/bk/0sfrfl4n3nl9319cdqyxqb740000gn/T/ipykernel_37523/1732914937.py:8: DtypeWarning: Columns (7,8,9,10,11,12,14,19,20,21,25,37) have mixed types. Specify dtype option on import or set low_memory=False.\n",
      "  data = pd.read_csv(filepath)\n",
      " 40%|████      | 4/10 [00:05<00:08,  1.47s/it]"
     ]
    },
    {
     "name": "stdout",
     "output_type": "stream",
     "text": [
      "Loading 1988_contributions.csv...\n"
     ]
    },
    {
     "name": "stderr",
     "output_type": "stream",
     "text": [
      "/var/folders/bk/0sfrfl4n3nl9319cdqyxqb740000gn/T/ipykernel_37523/1732914937.py:8: DtypeWarning: Columns (7,8,9,10,11,12,14,19,20,21,25,37) have mixed types. Specify dtype option on import or set low_memory=False.\n",
      "  data = pd.read_csv(filepath)\n",
      " 50%|█████     | 5/10 [00:08<00:08,  1.74s/it]"
     ]
    },
    {
     "name": "stdout",
     "output_type": "stream",
     "text": [
      "Loading 1990_contributions.csv...\n"
     ]
    },
    {
     "name": "stderr",
     "output_type": "stream",
     "text": [
      "/var/folders/bk/0sfrfl4n3nl9319cdqyxqb740000gn/T/ipykernel_37523/1732914937.py:8: DtypeWarning: Columns (7,8,9,10,11,12,14,19,20,21,25,29,37,39) have mixed types. Specify dtype option on import or set low_memory=False.\n",
      "  data = pd.read_csv(filepath)\n",
      " 60%|██████    | 6/10 [00:11<00:09,  2.46s/it]"
     ]
    },
    {
     "name": "stdout",
     "output_type": "stream",
     "text": [
      "Loading 1992_contributions.csv...\n"
     ]
    },
    {
     "name": "stderr",
     "output_type": "stream",
     "text": [
      "/var/folders/bk/0sfrfl4n3nl9319cdqyxqb740000gn/T/ipykernel_37523/1732914937.py:8: DtypeWarning: Columns (7,8,9,10,11,12,14,19,20,21,25,29,37,39) have mixed types. Specify dtype option on import or set low_memory=False.\n",
      "  data = pd.read_csv(filepath)\n",
      " 70%|███████   | 7/10 [00:17<00:10,  3.57s/it]"
     ]
    },
    {
     "name": "stdout",
     "output_type": "stream",
     "text": [
      "Loading 1994_contributions.csv...\n"
     ]
    },
    {
     "name": "stderr",
     "output_type": "stream",
     "text": [
      "/var/folders/bk/0sfrfl4n3nl9319cdqyxqb740000gn/T/ipykernel_37523/1732914937.py:8: DtypeWarning: Columns (7,8,9,10,11,12,14,19,20,25,29,37,39) have mixed types. Specify dtype option on import or set low_memory=False.\n",
      "  data = pd.read_csv(filepath)\n",
      " 80%|████████  | 8/10 [00:25<00:09,  4.78s/it]"
     ]
    },
    {
     "name": "stdout",
     "output_type": "stream",
     "text": [
      "Loading 1996_contributions.csv...\n"
     ]
    },
    {
     "name": "stderr",
     "output_type": "stream",
     "text": [
      "/var/folders/bk/0sfrfl4n3nl9319cdqyxqb740000gn/T/ipykernel_37523/1732914937.py:8: DtypeWarning: Columns (7,8,9,10,11,12,14,19,20,25,29,37,39) have mixed types. Specify dtype option on import or set low_memory=False.\n",
      "  data = pd.read_csv(filepath)\n",
      " 90%|█████████ | 9/10 [00:39<00:07,  7.69s/it]"
     ]
    },
    {
     "name": "stdout",
     "output_type": "stream",
     "text": [
      "Loading 1998_contributions.csv...\n"
     ]
    },
    {
     "name": "stderr",
     "output_type": "stream",
     "text": [
      "/var/folders/bk/0sfrfl4n3nl9319cdqyxqb740000gn/T/ipykernel_37523/1732914937.py:8: DtypeWarning: Columns (7,8,9,10,11,12,14,19,20,25,29,37,39,43) have mixed types. Specify dtype option on import or set low_memory=False.\n",
      "  data = pd.read_csv(filepath)\n",
      "100%|██████████| 10/10 [01:16<00:00,  7.68s/it]\n"
     ]
    }
   ],
   "source": [
    "# Take a 1% sample of the data and save it to a new file for EDA\n",
    "sample_size = 0.01\n",
    "sample_data = pd.DataFrame()\n",
    "for year in tqdm(links.keys()):\n",
    "    filename = f'{year}_contributions.csv'\n",
    "    filepath = os.path.join(DATA_DIR, filename)\n",
    "    print(f'Loading {filename}...')\n",
    "    data = pd.read_csv(filepath)\n",
    "    sample_data = pd.concat([sample_data, data.sample(frac=sample_size)])\n",
    "\n",
    "sample_data.to_csv(os.path.join(DATA_DIR, 'sample_contributions.csv'), index=False)"
   ]
  }
 ],
 "metadata": {
  "kernelspec": {
   "display_name": "Python 3",
   "language": "python",
   "name": "python3"
  },
  "language_info": {
   "codemirror_mode": {
    "name": "ipython",
    "version": 3
   },
   "file_extension": ".py",
   "mimetype": "text/x-python",
   "name": "python",
   "nbconvert_exporter": "python",
   "pygments_lexer": "ipython3",
   "version": "3.11.1"
  }
 },
 "nbformat": 4,
 "nbformat_minor": 2
}
