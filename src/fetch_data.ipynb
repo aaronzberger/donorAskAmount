{
 "cells": [
  {
   "cell_type": "markdown",
   "metadata": {},
   "source": [
    "## Fetch the data\n",
    "\n",
    "For now, we'll just fetch 1980-2000, since we can't store the remainder of it yet."
   ]
  },
  {
   "cell_type": "code",
   "execution_count": 1,
   "metadata": {},
   "outputs": [],
   "source": [
    "import os\n",
    "import subprocess\n",
    "import urllib.request\n",
    "\n",
    "import pandas as pd\n",
    "from tqdm import tqdm\n",
    "import numpy as np\n",
    "\n",
    "from config import DATA_DIR"
   ]
  },
  {
   "cell_type": "code",
   "execution_count": 2,
   "metadata": {},
   "outputs": [],
   "source": [
    "links = {\n",
    "    1980: 'https://www.dropbox.com/scl/fi/gdvpzggkb0in9yruircpi/contribDB_1980.csv.gz?rlkey=rs07632m813k3g85ndek1z16g&dl=1',\n",
    "    1982: 'https://www.dropbox.com/scl/fi/27xvy2hz0r4qxk8scnquh/contribDB_1982.csv.gz?rlkey=l45cyb4zzlr8xo74un5lazs58&dl=1',\n",
    "    1984: 'https://www.dropbox.com/scl/fi/ll39jbojud23hlvqrtejo/contribDB_1984.csv.gz?rlkey=2wa2khacau0nofzbcakm0y41g&dl=1',\n",
    "    1986: 'https://www.dropbox.com/scl/fi/dygk66slka6k2kkut2qhr/contribDB_1986.csv.gz?rlkey=8gnic6alr13e02f49rl3bak07&dl=1',\n",
    "    1988: 'https://www.dropbox.com/scl/fi/bjf3f5ol3m6zgx0pf46h3/contribDB_1988.csv.gz?rlkey=tenj07ipi5w5fe804b8wp7g3b&dl=1',\n",
    "    1990: 'https://www.dropbox.com/scl/fi/32oz76r1s0rg1f65sokki/contribDB_1990.csv.gz?rlkey=63a7r895m3bgam2eeg3ei1ox2&dl=1',\n",
    "    1992: 'https://www.dropbox.com/scl/fi/oqdezk0qhlcwu0pg2w54u/contribDB_1992.csv.gz?rlkey=3wy10l308vpfhdoteim95lt36&dl=1',\n",
    "    1994: 'https://www.dropbox.com/scl/fi/j8c57z43lg7byvhchaajq/contribDB_1994.csv.gz?rlkey=e1y4hz7x36vw26hlvvytmxp13&dl=1',\n",
    "    1996: 'https://www.dropbox.com/scl/fi/5sptswri21u1z6nyc2zzw/contribDB_1996.csv.gz?rlkey=ar2wx5f05p7f38hzt4o52rngg&dl=1',\n",
    "    1998: 'https://www.dropbox.com/scl/fi/c3bdwy7v527lrx68ghkvr/contribDB_1998.csv.gz?rlkey=y9jfa2e7tjd0yc5w2x227loy8&dl=1'\n",
    "}"
   ]
  },
  {
   "cell_type": "code",
   "execution_count": 3,
   "metadata": {},
   "outputs": [
    {
     "name": "stdout",
     "output_type": "stream",
     "text": [
      "Downloading 1980_contributions.csv.gz...\n",
      "Unzipping 1980_contributions.csv.gz...\n",
      "Downloading 1982_contributions.csv.gz...\n",
      "Unzipping 1982_contributions.csv.gz...\n",
      "Downloading 1984_contributions.csv.gz...\n",
      "Unzipping 1984_contributions.csv.gz...\n",
      "Downloading 1986_contributions.csv.gz...\n",
      "Unzipping 1986_contributions.csv.gz...\n",
      "Downloading 1988_contributions.csv.gz...\n",
      "Unzipping 1988_contributions.csv.gz...\n",
      "Downloading 1990_contributions.csv.gz...\n",
      "Unzipping 1990_contributions.csv.gz...\n",
      "Downloading 1992_contributions.csv.gz...\n",
      "Unzipping 1992_contributions.csv.gz...\n",
      "Downloading 1994_contributions.csv.gz...\n",
      "Unzipping 1994_contributions.csv.gz...\n",
      "Downloading 1996_contributions.csv.gz...\n",
      "Unzipping 1996_contributions.csv.gz...\n",
      "Downloading 1998_contributions.csv.gz...\n",
      "Unzipping 1998_contributions.csv.gz...\n",
      "Total storage used: 4324.75 MB\n"
     ]
    }
   ],
   "source": [
    "# Fetch the data and unzip into the data directory\n",
    "\n",
    "total_storage = 0\n",
    "\n",
    "for year, url in links.items():\n",
    "    filename = f'{year}_contributions.csv.gz'\n",
    "    filepath = os.path.join(DATA_DIR, filename)\n",
    "\n",
    "    if os.path.exists(filepath):\n",
    "        print(f'{filename} already exists, skipping...')\n",
    "        continue\n",
    "\n",
    "    print(f'Downloading {filename}...')\n",
    "    with urllib.request.urlopen(url) as response, open(filepath, 'wb') as out_file:\n",
    "        data = response.read()\n",
    "        out_file.write(data)\n",
    "\n",
    "    print(f'Unzipping {filename}...')\n",
    "    subprocess.run(['gunzip', filepath])\n",
    "\n",
    "    total_storage += os.path.getsize(filepath.split('.gz')[0])\n",
    "\n",
    "print(f'Total storage used: {total_storage / 1024 / 1024:.2f} MB')"
   ]
  },
  {
   "cell_type": "code",
   "execution_count": 4,
   "metadata": {},
   "outputs": [
    {
     "name": "stderr",
     "output_type": "stream",
     "text": [
      "  0%|          | 0/10 [00:00<?, ?it/s]"
     ]
    },
    {
     "name": "stdout",
     "output_type": "stream",
     "text": [
      "Loading 1980_contributions.csv...\n"
     ]
    },
    {
     "name": "stderr",
     "output_type": "stream",
     "text": [
      " 10%|█         | 1/10 [00:01<00:17,  1.97s/it]"
     ]
    },
    {
     "name": "stdout",
     "output_type": "stream",
     "text": [
      "Loading 1982_contributions.csv...\n"
     ]
    },
    {
     "name": "stderr",
     "output_type": "stream",
     "text": [
      " 20%|██        | 2/10 [00:03<00:13,  1.66s/it]"
     ]
    },
    {
     "name": "stdout",
     "output_type": "stream",
     "text": [
      "Loading 1984_contributions.csv...\n"
     ]
    },
    {
     "name": "stderr",
     "output_type": "stream",
     "text": [
      " 30%|███       | 3/10 [00:05<00:14,  2.02s/it]"
     ]
    },
    {
     "name": "stdout",
     "output_type": "stream",
     "text": [
      "Loading 1986_contributions.csv...\n"
     ]
    },
    {
     "name": "stderr",
     "output_type": "stream",
     "text": [
      " 40%|████      | 4/10 [00:09<00:15,  2.54s/it]"
     ]
    },
    {
     "name": "stdout",
     "output_type": "stream",
     "text": [
      "Loading 1988_contributions.csv...\n"
     ]
    },
    {
     "name": "stderr",
     "output_type": "stream",
     "text": [
      " 50%|█████     | 5/10 [00:12<00:13,  2.72s/it]"
     ]
    },
    {
     "name": "stdout",
     "output_type": "stream",
     "text": [
      "Loading 1990_contributions.csv...\n"
     ]
    },
    {
     "name": "stderr",
     "output_type": "stream",
     "text": [
      " 60%|██████    | 6/10 [00:17<00:14,  3.59s/it]"
     ]
    },
    {
     "name": "stdout",
     "output_type": "stream",
     "text": [
      "Loading 1992_contributions.csv...\n"
     ]
    },
    {
     "name": "stderr",
     "output_type": "stream",
     "text": [
      " 70%|███████   | 7/10 [00:23<00:13,  4.47s/it]"
     ]
    },
    {
     "name": "stdout",
     "output_type": "stream",
     "text": [
      "Loading 1994_contributions.csv...\n"
     ]
    },
    {
     "name": "stderr",
     "output_type": "stream",
     "text": [
      "/tmp/ipykernel_5630/3593496385.py:22: DtypeWarning: Columns (11,12,25,29,39) have mixed types. Specify dtype option on import or set low_memory=False.\n",
      "  sample_data = pd.read_csv(filepath, skiprows=skiprows)\n",
      " 80%|████████  | 8/10 [00:31<00:10,  5.41s/it]"
     ]
    },
    {
     "name": "stdout",
     "output_type": "stream",
     "text": [
      "Loading 1996_contributions.csv...\n"
     ]
    },
    {
     "name": "stderr",
     "output_type": "stream",
     "text": [
      " 90%|█████████ | 9/10 [00:44<00:08,  8.02s/it]"
     ]
    },
    {
     "name": "stdout",
     "output_type": "stream",
     "text": [
      "Loading 1998_contributions.csv...\n"
     ]
    },
    {
     "name": "stderr",
     "output_type": "stream",
     "text": [
      "/tmp/ipykernel_5630/3593496385.py:22: DtypeWarning: Columns (37,39,43) have mixed types. Specify dtype option on import or set low_memory=False.\n",
      "  sample_data = pd.read_csv(filepath, skiprows=skiprows)\n",
      "100%|██████████| 10/10 [01:15<00:00,  7.58s/it]"
     ]
    },
    {
     "name": "stdout",
     "output_type": "stream",
     "text": [
      "Sampling completed and saved to 'sample_contributions.csv'.\n"
     ]
    },
    {
     "name": "stderr",
     "output_type": "stream",
     "text": [
      "\n"
     ]
    }
   ],
   "source": [
    "sample_size = 0.01\n",
    "output_file_path = os.path.join(DATA_DIR, 'sample_contributions.csv')\n",
    "\n",
    "# Determine whether to write the header; initially, True\n",
    "write_header = True\n",
    "\n",
    "for year in tqdm(links.keys()):\n",
    "    filename = f'{year}_contributions.csv'\n",
    "    filepath = os.path.join(DATA_DIR, filename)\n",
    "    print(f'Loading {filename}...')\n",
    "\n",
    "    # First, determine the number of rows in the file (excluding header)\n",
    "    total_rows = sum(1 for row in open(filepath, 'r', encoding='utf-8')) - 1\n",
    "\n",
    "    # Calculate the number of rows to sample\n",
    "    sample_rows = int(total_rows * sample_size)\n",
    "\n",
    "    # Generate random row indices to skip\n",
    "    skiprows = sorted(np.random.choice(np.arange(1, total_rows+1), size=(total_rows-sample_rows), replace=False))\n",
    "    \n",
    "    # Use skiprows in read_csv to load the random sample directly\n",
    "    sample_data = pd.read_csv(filepath, skiprows=skiprows)\n",
    "\n",
    "    # Append the sample to the output file. Use header only for the first file\n",
    "    sample_data.to_csv(output_file_path, mode='a', index=False, header=write_header)\n",
    "    \n",
    "    # After the first write, disable header for subsequent writes\n",
    "    write_header = False\n",
    "\n",
    "print(\"Sampling completed and saved to 'sample_contributions.csv'.\")"
   ]
  },
  {
   "cell_type": "markdown",
   "metadata": {},
   "source": [
    "The following issues arose when processing data: \n",
    "`DtypeWarning: Columns (11,12,25,29,39) have mixed types. Specify dtype option on import or set low_memory=False.\n",
    "  sample_data = pd.read_csv(filepath, skiprows=skiprows)`\n",
    "\n",
    "`DtypeWarning: Columns (37,39,43) have mixed types. Specify dtype option on import or set low_memory=False.\n",
    "  sample_data = pd.read_csv(filepath, skiprows=skiprows)`\n"
   ]
  }
 ],
 "metadata": {
  "kernelspec": {
   "display_name": "Python 3",
   "language": "python",
   "name": "python3"
  },
  "language_info": {
   "codemirror_mode": {
    "name": "ipython",
    "version": 3
   },
   "file_extension": ".py",
   "mimetype": "text/x-python",
   "name": "python",
   "nbconvert_exporter": "python",
   "pygments_lexer": "ipython3",
   "version": "3.12.2"
  }
 },
 "nbformat": 4,
 "nbformat_minor": 2
}
